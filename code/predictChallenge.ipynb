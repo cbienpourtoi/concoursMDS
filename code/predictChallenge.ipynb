{
 "cells": [
  {
   "cell_type": "markdown",
   "metadata": {},
   "source": [
    "# Challenge MDS 2016"
   ]
  },
  {
   "cell_type": "markdown",
   "metadata": {},
   "source": [
    "LLT _ quick solution"
   ]
  },
  {
   "cell_type": "markdown",
   "metadata": {},
   "source": [
    "# Import des données"
   ]
  },
  {
   "cell_type": "markdown",
   "metadata": {},
   "source": [
    "Avant de rentrer dans le vif du sujet, importons quelques packages necessaires pour ce tutoriel :"
   ]
  },
  {
   "cell_type": "code",
   "execution_count": 1,
   "metadata": {
    "collapsed": false
   },
   "outputs": [],
   "source": [
    "import pandas as pd\n",
    "import numpy as np\n",
    "from sklearn.preprocessing import LabelEncoder\n",
    "from sklearn.cross_validation import KFold\n",
    "from sklearn.ensemble import RandomForestRegressor\n",
    "import matplotlib.pyplot as plt\n",
    "%matplotlib inline "
   ]
  },
  {
   "cell_type": "code",
   "execution_count": 2,
   "metadata": {
    "collapsed": false
   },
   "outputs": [],
   "source": [
    "# Librairie de visualisation super cool\n",
    "import seaborn as sns # pip install seaborn"
   ]
  },
  {
   "cell_type": "markdown",
   "metadata": {},
   "source": [
    "Les datasets sont sous format .csv. Vous pouvez les importer avec le code ci-dessous."
   ]
  },
  {
   "cell_type": "code",
   "execution_count": 3,
   "metadata": {
    "collapsed": false
   },
   "outputs": [],
   "source": [
    "train = pd.read_csv('../data_challenge/boites_medicaments_train.csv',\n",
    "                    encoding='utf-8',\n",
    "                    sep=';')\n",
    "\n",
    "test = pd.read_csv('../data_challenge/boites_medicaments_test.csv',\n",
    "                   encoding='utf-8', \n",
    "                   sep=';')"
   ]
  },
  {
   "cell_type": "code",
   "execution_count": 4,
   "metadata": {
    "collapsed": false
   },
   "outputs": [
    {
     "data": {
      "text/html": [
       "<div>\n",
       "<table border=\"1\" class=\"dataframe\">\n",
       "  <thead>\n",
       "    <tr style=\"text-align: right;\">\n",
       "      <th></th>\n",
       "      <th>libelle</th>\n",
       "      <th>libelle_plaquette</th>\n",
       "      <th>libelle_ampoule</th>\n",
       "      <th>libelle_flacon</th>\n",
       "      <th>libelle_tube</th>\n",
       "      <th>libelle_stylo</th>\n",
       "      <th>libelle_seringue</th>\n",
       "      <th>libelle_pilulier</th>\n",
       "      <th>libelle_sachet</th>\n",
       "      <th>libelle_comprime</th>\n",
       "      <th>libelle_gelule</th>\n",
       "      <th>libelle_film</th>\n",
       "      <th>libelle_poche</th>\n",
       "      <th>libelle_capsule</th>\n",
       "      <th>nb_plaquette</th>\n",
       "      <th>nb_ampoule</th>\n",
       "      <th>nb_flacon</th>\n",
       "      <th>nb_tube</th>\n",
       "      <th>nb_stylo</th>\n",
       "      <th>nb_seringue</th>\n",
       "      <th>nb_pilulier</th>\n",
       "      <th>nb_sachet</th>\n",
       "      <th>nb_comprime</th>\n",
       "      <th>nb_gelule</th>\n",
       "      <th>nb_film</th>\n",
       "      <th>nb_poche</th>\n",
       "      <th>nb_capsule</th>\n",
       "      <th>nb_ml</th>\n",
       "      <th>statut</th>\n",
       "      <th>etat commerc</th>\n",
       "      <th>agrement col</th>\n",
       "      <th>tx rembours</th>\n",
       "      <th>forme pharma</th>\n",
       "      <th>voies admin</th>\n",
       "      <th>statut admin</th>\n",
       "      <th>date declar annee</th>\n",
       "      <th>date amm annee</th>\n",
       "      <th>type proc</th>\n",
       "      <th>titulaires</th>\n",
       "      <th>substances</th>\n",
       "      <th>prix</th>\n",
       "    </tr>\n",
       "  </thead>\n",
       "  <tbody>\n",
       "    <tr>\n",
       "      <th>0</th>\n",
       "      <td>3 plaquette(s) thermoformée(s) PVC-Aluminium d...</td>\n",
       "      <td>1</td>\n",
       "      <td>0</td>\n",
       "      <td>0</td>\n",
       "      <td>0</td>\n",
       "      <td>0</td>\n",
       "      <td>0</td>\n",
       "      <td>0</td>\n",
       "      <td>0</td>\n",
       "      <td>1</td>\n",
       "      <td>0</td>\n",
       "      <td>0</td>\n",
       "      <td>0</td>\n",
       "      <td>0</td>\n",
       "      <td>3</td>\n",
       "      <td>0</td>\n",
       "      <td>0</td>\n",
       "      <td>0</td>\n",
       "      <td>0</td>\n",
       "      <td>0</td>\n",
       "      <td>0</td>\n",
       "      <td>0</td>\n",
       "      <td>28</td>\n",
       "      <td>0</td>\n",
       "      <td>0</td>\n",
       "      <td>0</td>\n",
       "      <td>0</td>\n",
       "      <td>0.0</td>\n",
       "      <td>Présentation active</td>\n",
       "      <td>Déclaration de commercialisation</td>\n",
       "      <td>oui</td>\n",
       "      <td>65%</td>\n",
       "      <td>comprimé pelliculé</td>\n",
       "      <td>orale</td>\n",
       "      <td>Autorisation active</td>\n",
       "      <td>2014</td>\n",
       "      <td>2014</td>\n",
       "      <td>Procédure décentralisée</td>\n",
       "      <td>MAJORELLE LUXEMBOURG SOPARFI (LUXEMBOURG)</td>\n",
       "      <td>DÉSOGESTREL</td>\n",
       "      <td>2.83</td>\n",
       "    </tr>\n",
       "    <tr>\n",
       "      <th>1</th>\n",
       "      <td>plaquette(s) thermoformée(s) aluminium de 28 c...</td>\n",
       "      <td>1</td>\n",
       "      <td>0</td>\n",
       "      <td>0</td>\n",
       "      <td>0</td>\n",
       "      <td>0</td>\n",
       "      <td>0</td>\n",
       "      <td>0</td>\n",
       "      <td>0</td>\n",
       "      <td>1</td>\n",
       "      <td>0</td>\n",
       "      <td>0</td>\n",
       "      <td>0</td>\n",
       "      <td>0</td>\n",
       "      <td>0</td>\n",
       "      <td>0</td>\n",
       "      <td>0</td>\n",
       "      <td>0</td>\n",
       "      <td>0</td>\n",
       "      <td>0</td>\n",
       "      <td>0</td>\n",
       "      <td>0</td>\n",
       "      <td>28</td>\n",
       "      <td>0</td>\n",
       "      <td>0</td>\n",
       "      <td>0</td>\n",
       "      <td>0</td>\n",
       "      <td>0.0</td>\n",
       "      <td>Présentation active</td>\n",
       "      <td>Déclaration de commercialisation</td>\n",
       "      <td>oui</td>\n",
       "      <td>65%</td>\n",
       "      <td>comprimé à croquer</td>\n",
       "      <td>orale</td>\n",
       "      <td>Autorisation active</td>\n",
       "      <td>2013</td>\n",
       "      <td>2009</td>\n",
       "      <td>Procédure de reconnaissance mutuelle</td>\n",
       "      <td>TEVA SANTE</td>\n",
       "      <td>MONTÉLUKAST ACIDE, MONTÉLUKAST SODIQUE</td>\n",
       "      <td>14.30</td>\n",
       "    </tr>\n",
       "    <tr>\n",
       "      <th>2</th>\n",
       "      <td>plaquette(s) thermoformée(s) PVC-aluminium de ...</td>\n",
       "      <td>1</td>\n",
       "      <td>0</td>\n",
       "      <td>0</td>\n",
       "      <td>0</td>\n",
       "      <td>0</td>\n",
       "      <td>0</td>\n",
       "      <td>0</td>\n",
       "      <td>0</td>\n",
       "      <td>0</td>\n",
       "      <td>1</td>\n",
       "      <td>0</td>\n",
       "      <td>0</td>\n",
       "      <td>0</td>\n",
       "      <td>0</td>\n",
       "      <td>0</td>\n",
       "      <td>0</td>\n",
       "      <td>0</td>\n",
       "      <td>0</td>\n",
       "      <td>0</td>\n",
       "      <td>0</td>\n",
       "      <td>0</td>\n",
       "      <td>0</td>\n",
       "      <td>30</td>\n",
       "      <td>0</td>\n",
       "      <td>0</td>\n",
       "      <td>0</td>\n",
       "      <td>0.0</td>\n",
       "      <td>Présentation active</td>\n",
       "      <td>Déclaration de commercialisation</td>\n",
       "      <td>oui</td>\n",
       "      <td>65%</td>\n",
       "      <td>gélule à libération prolongée</td>\n",
       "      <td>orale</td>\n",
       "      <td>Autorisation active</td>\n",
       "      <td>2000</td>\n",
       "      <td>1996</td>\n",
       "      <td>Procédure nationale</td>\n",
       "      <td>MYLAN SAS</td>\n",
       "      <td>CHLORHYDRATE DE DILTIAZEM</td>\n",
       "      <td>5.66</td>\n",
       "    </tr>\n",
       "    <tr>\n",
       "      <th>3</th>\n",
       "      <td>30 sachet(s)-dose(s) papier aluminium complexe...</td>\n",
       "      <td>0</td>\n",
       "      <td>0</td>\n",
       "      <td>0</td>\n",
       "      <td>0</td>\n",
       "      <td>0</td>\n",
       "      <td>0</td>\n",
       "      <td>0</td>\n",
       "      <td>1</td>\n",
       "      <td>0</td>\n",
       "      <td>0</td>\n",
       "      <td>0</td>\n",
       "      <td>0</td>\n",
       "      <td>0</td>\n",
       "      <td>0</td>\n",
       "      <td>0</td>\n",
       "      <td>0</td>\n",
       "      <td>0</td>\n",
       "      <td>0</td>\n",
       "      <td>0</td>\n",
       "      <td>0</td>\n",
       "      <td>30</td>\n",
       "      <td>0</td>\n",
       "      <td>0</td>\n",
       "      <td>0</td>\n",
       "      <td>0</td>\n",
       "      <td>0</td>\n",
       "      <td>0.0</td>\n",
       "      <td>Présentation active</td>\n",
       "      <td>Déclaration de commercialisation</td>\n",
       "      <td>oui</td>\n",
       "      <td>65%</td>\n",
       "      <td>granulés à libération prolongée</td>\n",
       "      <td>orale</td>\n",
       "      <td>Autorisation active</td>\n",
       "      <td>2005</td>\n",
       "      <td>2004</td>\n",
       "      <td>Procédure nationale</td>\n",
       "      <td>SANOFI AVENTIS FRANCE</td>\n",
       "      <td>ACIDE VALPROÏQUE, VALPROATE DE SODIUM</td>\n",
       "      <td>24.27</td>\n",
       "    </tr>\n",
       "    <tr>\n",
       "      <th>4</th>\n",
       "      <td>plaquette(s) thermoformée(s) PVC-Aluminium de ...</td>\n",
       "      <td>1</td>\n",
       "      <td>0</td>\n",
       "      <td>0</td>\n",
       "      <td>0</td>\n",
       "      <td>0</td>\n",
       "      <td>0</td>\n",
       "      <td>0</td>\n",
       "      <td>0</td>\n",
       "      <td>1</td>\n",
       "      <td>0</td>\n",
       "      <td>0</td>\n",
       "      <td>0</td>\n",
       "      <td>0</td>\n",
       "      <td>0</td>\n",
       "      <td>0</td>\n",
       "      <td>0</td>\n",
       "      <td>0</td>\n",
       "      <td>0</td>\n",
       "      <td>0</td>\n",
       "      <td>0</td>\n",
       "      <td>0</td>\n",
       "      <td>30</td>\n",
       "      <td>0</td>\n",
       "      <td>0</td>\n",
       "      <td>0</td>\n",
       "      <td>0</td>\n",
       "      <td>0.0</td>\n",
       "      <td>Présentation active</td>\n",
       "      <td>Déclaration d'arrêt de commercialisation</td>\n",
       "      <td>non</td>\n",
       "      <td>100%</td>\n",
       "      <td>comprimé pelliculé</td>\n",
       "      <td>orale</td>\n",
       "      <td>Autorisation active</td>\n",
       "      <td>2015</td>\n",
       "      <td>2010</td>\n",
       "      <td>Procédure nationale</td>\n",
       "      <td>TEVA SANTE</td>\n",
       "      <td>LÉTROZOLE</td>\n",
       "      <td>59.94</td>\n",
       "    </tr>\n",
       "    <tr>\n",
       "      <th>5</th>\n",
       "      <td>plaquette(s) thermoformée(s) PVC-aluminium de ...</td>\n",
       "      <td>1</td>\n",
       "      <td>0</td>\n",
       "      <td>0</td>\n",
       "      <td>0</td>\n",
       "      <td>0</td>\n",
       "      <td>0</td>\n",
       "      <td>0</td>\n",
       "      <td>0</td>\n",
       "      <td>1</td>\n",
       "      <td>0</td>\n",
       "      <td>0</td>\n",
       "      <td>0</td>\n",
       "      <td>0</td>\n",
       "      <td>0</td>\n",
       "      <td>0</td>\n",
       "      <td>0</td>\n",
       "      <td>0</td>\n",
       "      <td>0</td>\n",
       "      <td>0</td>\n",
       "      <td>0</td>\n",
       "      <td>0</td>\n",
       "      <td>30</td>\n",
       "      <td>0</td>\n",
       "      <td>0</td>\n",
       "      <td>0</td>\n",
       "      <td>0</td>\n",
       "      <td>0.0</td>\n",
       "      <td>Présentation active</td>\n",
       "      <td>Déclaration de commercialisation</td>\n",
       "      <td>oui</td>\n",
       "      <td>100%</td>\n",
       "      <td>comprimé</td>\n",
       "      <td>orale</td>\n",
       "      <td>Autorisation active</td>\n",
       "      <td>2001</td>\n",
       "      <td>2000</td>\n",
       "      <td>Procédure nationale</td>\n",
       "      <td>EG LABO - LABORATOIRES EUROGENERICS</td>\n",
       "      <td>FLUTAMIDE</td>\n",
       "      <td>27.17</td>\n",
       "    </tr>\n",
       "    <tr>\n",
       "      <th>6</th>\n",
       "      <td>flacon(s) polyéthylène haute densité (PEHD) de...</td>\n",
       "      <td>0</td>\n",
       "      <td>0</td>\n",
       "      <td>1</td>\n",
       "      <td>0</td>\n",
       "      <td>0</td>\n",
       "      <td>0</td>\n",
       "      <td>0</td>\n",
       "      <td>0</td>\n",
       "      <td>0</td>\n",
       "      <td>0</td>\n",
       "      <td>0</td>\n",
       "      <td>0</td>\n",
       "      <td>1</td>\n",
       "      <td>0</td>\n",
       "      <td>0</td>\n",
       "      <td>0</td>\n",
       "      <td>0</td>\n",
       "      <td>0</td>\n",
       "      <td>0</td>\n",
       "      <td>0</td>\n",
       "      <td>0</td>\n",
       "      <td>0</td>\n",
       "      <td>0</td>\n",
       "      <td>0</td>\n",
       "      <td>0</td>\n",
       "      <td>100</td>\n",
       "      <td>0.0</td>\n",
       "      <td>Présentation active</td>\n",
       "      <td>Déclaration de commercialisation</td>\n",
       "      <td>oui</td>\n",
       "      <td>100%</td>\n",
       "      <td>capsule molle</td>\n",
       "      <td>orale</td>\n",
       "      <td>Autorisation active</td>\n",
       "      <td>2015</td>\n",
       "      <td>2001</td>\n",
       "      <td>Procédure centralisée</td>\n",
       "      <td>EISAI (ROYAUME-UNI)</td>\n",
       "      <td>BEXAROTÈNE</td>\n",
       "      <td>877.83</td>\n",
       "    </tr>\n",
       "    <tr>\n",
       "      <th>7</th>\n",
       "      <td>plaquette(s) thermoformée(s) PVC polyéthylène ...</td>\n",
       "      <td>1</td>\n",
       "      <td>0</td>\n",
       "      <td>0</td>\n",
       "      <td>0</td>\n",
       "      <td>0</td>\n",
       "      <td>0</td>\n",
       "      <td>0</td>\n",
       "      <td>0</td>\n",
       "      <td>1</td>\n",
       "      <td>0</td>\n",
       "      <td>0</td>\n",
       "      <td>0</td>\n",
       "      <td>0</td>\n",
       "      <td>0</td>\n",
       "      <td>0</td>\n",
       "      <td>0</td>\n",
       "      <td>0</td>\n",
       "      <td>0</td>\n",
       "      <td>0</td>\n",
       "      <td>0</td>\n",
       "      <td>0</td>\n",
       "      <td>30</td>\n",
       "      <td>0</td>\n",
       "      <td>0</td>\n",
       "      <td>0</td>\n",
       "      <td>0</td>\n",
       "      <td>0.0</td>\n",
       "      <td>Présentation active</td>\n",
       "      <td>Déclaration de commercialisation</td>\n",
       "      <td>oui</td>\n",
       "      <td>65%</td>\n",
       "      <td>comprimé</td>\n",
       "      <td>orale</td>\n",
       "      <td>Autorisation active</td>\n",
       "      <td>2006</td>\n",
       "      <td>2006</td>\n",
       "      <td>Procédure de reconnaissance mutuelle</td>\n",
       "      <td>SANDOZ</td>\n",
       "      <td>GLIMÉPIRIDE</td>\n",
       "      <td>6.58</td>\n",
       "    </tr>\n",
       "    <tr>\n",
       "      <th>8</th>\n",
       "      <td>plaquette(s) thermoformée(s) PVC-Aluminium de ...</td>\n",
       "      <td>1</td>\n",
       "      <td>0</td>\n",
       "      <td>0</td>\n",
       "      <td>0</td>\n",
       "      <td>0</td>\n",
       "      <td>0</td>\n",
       "      <td>0</td>\n",
       "      <td>0</td>\n",
       "      <td>1</td>\n",
       "      <td>0</td>\n",
       "      <td>0</td>\n",
       "      <td>0</td>\n",
       "      <td>0</td>\n",
       "      <td>0</td>\n",
       "      <td>0</td>\n",
       "      <td>0</td>\n",
       "      <td>0</td>\n",
       "      <td>0</td>\n",
       "      <td>0</td>\n",
       "      <td>0</td>\n",
       "      <td>0</td>\n",
       "      <td>90</td>\n",
       "      <td>0</td>\n",
       "      <td>0</td>\n",
       "      <td>0</td>\n",
       "      <td>0</td>\n",
       "      <td>0.0</td>\n",
       "      <td>Présentation active</td>\n",
       "      <td>Déclaration d'arrêt de commercialisation</td>\n",
       "      <td>oui</td>\n",
       "      <td>65%</td>\n",
       "      <td>comprimé sécable</td>\n",
       "      <td>orale</td>\n",
       "      <td>Autorisation active</td>\n",
       "      <td>2013</td>\n",
       "      <td>2002</td>\n",
       "      <td>Procédure nationale</td>\n",
       "      <td>ARROW GENERIQUES</td>\n",
       "      <td>MALÉATE D'ÉNALAPRIL</td>\n",
       "      <td>18.63</td>\n",
       "    </tr>\n",
       "    <tr>\n",
       "      <th>9</th>\n",
       "      <td>plaquette(s) polyamide aluminium PVC de 10 com...</td>\n",
       "      <td>1</td>\n",
       "      <td>0</td>\n",
       "      <td>0</td>\n",
       "      <td>0</td>\n",
       "      <td>0</td>\n",
       "      <td>0</td>\n",
       "      <td>0</td>\n",
       "      <td>0</td>\n",
       "      <td>1</td>\n",
       "      <td>0</td>\n",
       "      <td>0</td>\n",
       "      <td>0</td>\n",
       "      <td>0</td>\n",
       "      <td>0</td>\n",
       "      <td>0</td>\n",
       "      <td>0</td>\n",
       "      <td>0</td>\n",
       "      <td>0</td>\n",
       "      <td>0</td>\n",
       "      <td>0</td>\n",
       "      <td>0</td>\n",
       "      <td>10</td>\n",
       "      <td>0</td>\n",
       "      <td>0</td>\n",
       "      <td>0</td>\n",
       "      <td>0</td>\n",
       "      <td>0.0</td>\n",
       "      <td>Présentation active</td>\n",
       "      <td>Déclaration de commercialisation</td>\n",
       "      <td>non</td>\n",
       "      <td>65%</td>\n",
       "      <td>comprimé pelliculé</td>\n",
       "      <td>orale</td>\n",
       "      <td>Autorisation active</td>\n",
       "      <td>2015</td>\n",
       "      <td>2012</td>\n",
       "      <td>Procédure nationale</td>\n",
       "      <td>ARROW GENERIQUES</td>\n",
       "      <td>CEFPODOXIME PROXÉTIL, CEFPODOXIME</td>\n",
       "      <td>6.13</td>\n",
       "    </tr>\n",
       "  </tbody>\n",
       "</table>\n",
       "</div>"
      ],
      "text/plain": [
       "                                             libelle  libelle_plaquette  \\\n",
       "0  3 plaquette(s) thermoformée(s) PVC-Aluminium d...                  1   \n",
       "1  plaquette(s) thermoformée(s) aluminium de 28 c...                  1   \n",
       "2  plaquette(s) thermoformée(s) PVC-aluminium de ...                  1   \n",
       "3  30 sachet(s)-dose(s) papier aluminium complexe...                  0   \n",
       "4  plaquette(s) thermoformée(s) PVC-Aluminium de ...                  1   \n",
       "5  plaquette(s) thermoformée(s) PVC-aluminium de ...                  1   \n",
       "6  flacon(s) polyéthylène haute densité (PEHD) de...                  0   \n",
       "7  plaquette(s) thermoformée(s) PVC polyéthylène ...                  1   \n",
       "8  plaquette(s) thermoformée(s) PVC-Aluminium de ...                  1   \n",
       "9  plaquette(s) polyamide aluminium PVC de 10 com...                  1   \n",
       "\n",
       "   libelle_ampoule  libelle_flacon  libelle_tube  libelle_stylo  \\\n",
       "0                0               0             0              0   \n",
       "1                0               0             0              0   \n",
       "2                0               0             0              0   \n",
       "3                0               0             0              0   \n",
       "4                0               0             0              0   \n",
       "5                0               0             0              0   \n",
       "6                0               1             0              0   \n",
       "7                0               0             0              0   \n",
       "8                0               0             0              0   \n",
       "9                0               0             0              0   \n",
       "\n",
       "   libelle_seringue  libelle_pilulier  libelle_sachet  libelle_comprime  \\\n",
       "0                 0                 0               0                 1   \n",
       "1                 0                 0               0                 1   \n",
       "2                 0                 0               0                 0   \n",
       "3                 0                 0               1                 0   \n",
       "4                 0                 0               0                 1   \n",
       "5                 0                 0               0                 1   \n",
       "6                 0                 0               0                 0   \n",
       "7                 0                 0               0                 1   \n",
       "8                 0                 0               0                 1   \n",
       "9                 0                 0               0                 1   \n",
       "\n",
       "   libelle_gelule  libelle_film  libelle_poche  libelle_capsule  nb_plaquette  \\\n",
       "0               0             0              0                0             3   \n",
       "1               0             0              0                0             0   \n",
       "2               1             0              0                0             0   \n",
       "3               0             0              0                0             0   \n",
       "4               0             0              0                0             0   \n",
       "5               0             0              0                0             0   \n",
       "6               0             0              0                1             0   \n",
       "7               0             0              0                0             0   \n",
       "8               0             0              0                0             0   \n",
       "9               0             0              0                0             0   \n",
       "\n",
       "   nb_ampoule  nb_flacon  nb_tube  nb_stylo  nb_seringue  nb_pilulier  \\\n",
       "0           0          0        0         0            0            0   \n",
       "1           0          0        0         0            0            0   \n",
       "2           0          0        0         0            0            0   \n",
       "3           0          0        0         0            0            0   \n",
       "4           0          0        0         0            0            0   \n",
       "5           0          0        0         0            0            0   \n",
       "6           0          0        0         0            0            0   \n",
       "7           0          0        0         0            0            0   \n",
       "8           0          0        0         0            0            0   \n",
       "9           0          0        0         0            0            0   \n",
       "\n",
       "   nb_sachet  nb_comprime  nb_gelule  nb_film  nb_poche  nb_capsule  nb_ml  \\\n",
       "0          0           28          0        0         0           0    0.0   \n",
       "1          0           28          0        0         0           0    0.0   \n",
       "2          0            0         30        0         0           0    0.0   \n",
       "3         30            0          0        0         0           0    0.0   \n",
       "4          0           30          0        0         0           0    0.0   \n",
       "5          0           30          0        0         0           0    0.0   \n",
       "6          0            0          0        0         0         100    0.0   \n",
       "7          0           30          0        0         0           0    0.0   \n",
       "8          0           90          0        0         0           0    0.0   \n",
       "9          0           10          0        0         0           0    0.0   \n",
       "\n",
       "                statut                              etat commerc agrement col  \\\n",
       "0  Présentation active          Déclaration de commercialisation          oui   \n",
       "1  Présentation active          Déclaration de commercialisation          oui   \n",
       "2  Présentation active          Déclaration de commercialisation          oui   \n",
       "3  Présentation active          Déclaration de commercialisation          oui   \n",
       "4  Présentation active  Déclaration d'arrêt de commercialisation          non   \n",
       "5  Présentation active          Déclaration de commercialisation          oui   \n",
       "6  Présentation active          Déclaration de commercialisation          oui   \n",
       "7  Présentation active          Déclaration de commercialisation          oui   \n",
       "8  Présentation active  Déclaration d'arrêt de commercialisation          oui   \n",
       "9  Présentation active          Déclaration de commercialisation          non   \n",
       "\n",
       "  tx rembours                     forme pharma voies admin  \\\n",
       "0         65%               comprimé pelliculé       orale   \n",
       "1         65%               comprimé à croquer       orale   \n",
       "2         65%    gélule à libération prolongée       orale   \n",
       "3         65%  granulés à libération prolongée       orale   \n",
       "4        100%               comprimé pelliculé       orale   \n",
       "5        100%                         comprimé       orale   \n",
       "6        100%                    capsule molle       orale   \n",
       "7         65%                         comprimé       orale   \n",
       "8         65%                 comprimé sécable       orale   \n",
       "9         65%               comprimé pelliculé       orale   \n",
       "\n",
       "          statut admin  date declar annee  date amm annee  \\\n",
       "0  Autorisation active               2014            2014   \n",
       "1  Autorisation active               2013            2009   \n",
       "2  Autorisation active               2000            1996   \n",
       "3  Autorisation active               2005            2004   \n",
       "4  Autorisation active               2015            2010   \n",
       "5  Autorisation active               2001            2000   \n",
       "6  Autorisation active               2015            2001   \n",
       "7  Autorisation active               2006            2006   \n",
       "8  Autorisation active               2013            2002   \n",
       "9  Autorisation active               2015            2012   \n",
       "\n",
       "                              type proc  \\\n",
       "0               Procédure décentralisée   \n",
       "1  Procédure de reconnaissance mutuelle   \n",
       "2                   Procédure nationale   \n",
       "3                   Procédure nationale   \n",
       "4                   Procédure nationale   \n",
       "5                   Procédure nationale   \n",
       "6                 Procédure centralisée   \n",
       "7  Procédure de reconnaissance mutuelle   \n",
       "8                   Procédure nationale   \n",
       "9                   Procédure nationale   \n",
       "\n",
       "                                   titulaires  \\\n",
       "0   MAJORELLE LUXEMBOURG SOPARFI (LUXEMBOURG)   \n",
       "1                                  TEVA SANTE   \n",
       "2                                   MYLAN SAS   \n",
       "3                       SANOFI AVENTIS FRANCE   \n",
       "4                                  TEVA SANTE   \n",
       "5         EG LABO - LABORATOIRES EUROGENERICS   \n",
       "6                         EISAI (ROYAUME-UNI)   \n",
       "7                                      SANDOZ   \n",
       "8                            ARROW GENERIQUES   \n",
       "9                            ARROW GENERIQUES   \n",
       "\n",
       "                               substances    prix  \n",
       "0                             DÉSOGESTREL    2.83  \n",
       "1  MONTÉLUKAST ACIDE, MONTÉLUKAST SODIQUE   14.30  \n",
       "2               CHLORHYDRATE DE DILTIAZEM    5.66  \n",
       "3   ACIDE VALPROÏQUE, VALPROATE DE SODIUM   24.27  \n",
       "4                               LÉTROZOLE   59.94  \n",
       "5                               FLUTAMIDE   27.17  \n",
       "6                              BEXAROTÈNE  877.83  \n",
       "7                             GLIMÉPIRIDE    6.58  \n",
       "8                     MALÉATE D'ÉNALAPRIL   18.63  \n",
       "9       CEFPODOXIME PROXÉTIL, CEFPODOXIME    6.13  "
      ]
     },
     "execution_count": 4,
     "metadata": {},
     "output_type": "execute_result"
    }
   ],
   "source": [
    "pd.set_option(\"display.max_columns\", 99) # permet de voir toutes les colonnes\n",
    "train.head(10)"
   ]
  },
  {
   "cell_type": "markdown",
   "metadata": {},
   "source": [
    "On est maintenant pret a attaquer les choses serieuses ! :)"
   ]
  },
  {
   "cell_type": "markdown",
   "metadata": {},
   "source": [
    "# Analyse descriptive"
   ]
  },
  {
   "cell_type": "markdown",
   "metadata": {},
   "source": [
    "### Structure des datasets\n",
    "\n",
    "Le dataset ```train``` comporte les caracteristiques et prix de 8564 boites de medicaments. C'est ce dataset que nous allons utiliser pour creer un modele.\n",
    "Chaque boite de medicament est decrite par une observation de 41 variables. Ces variables sont decrites dans le fichier `Description.pdf` present dans la cle usb.\n",
    "\n",
    "Le dataset ```test``` comporte les caracteristiques des 3671 boites de medicaments dont il faut predire le prix. A la difference de ```train```, le prix des boites de medicaments n'est bien sur pas inclus et une colonne `id` a ete ajoutée pour identifier les boites de medicaments pendant l'etape de soumission des predictions sur [Datascience.net](www.datascience.net)"
   ]
  },
  {
   "cell_type": "markdown",
   "metadata": {},
   "source": [
    "### Distribution des donnees\n",
    "\n",
    "Jetons maintenant un coup d'oeil a la distribution des donnees"
   ]
  },
  {
   "cell_type": "code",
   "execution_count": 5,
   "metadata": {
    "collapsed": false
   },
   "outputs": [
    {
     "data": {
      "text/plain": [
       "<matplotlib.axes._subplots.AxesSubplot at 0x7f9e5877aa50>"
      ]
     },
     "execution_count": 5,
     "metadata": {},
     "output_type": "execute_result"
    },
    {
     "data": {
      "image/png": "[encoded data removed]",
      "text/plain": [
       "<matplotlib.figure.Figure at 0x7f9e5877a390>"
      ]
     },
     "metadata": {},
     "output_type": "display_data"
    }
   ],
   "source": [
    "# Distribution du log des prix\n",
    "# On prend le log des prix car sa distribution est plus proche d'une gaussienne\n",
    "train['logprix'] = train['prix'].apply(np.log)\n",
    "train['logprix'].hist()"
   ]
  },
  {
   "cell_type": "code",
   "execution_count": 6,
   "metadata": {
    "collapsed": false
   },
   "outputs": [
    {
     "data": {
      "text/plain": [
       "<matplotlib.axes._subplots.AxesSubplot at 0x7f9e59788790>"
      ]
     },
     "execution_count": 6,
     "metadata": {},
     "output_type": "execute_result"
    },
    {
     "data": {
      "image/png": "[encoded data removed]",
      "text/plain": [
       "<matplotlib.figure.Figure at 0x7f9e58fda810>"
      ]
     },
     "metadata": {},
     "output_type": "display_data"
    }
   ],
   "source": [
    "# Influence sur les prix de la feature \"tx rembours\"\n",
    "sns.violinplot(y=\"logprix\", x=\"tx rembours\", data=train)"
   ]
  },
  {
   "cell_type": "code",
   "execution_count": 7,
   "metadata": {
    "collapsed": false
   },
   "outputs": [
    {
     "data": {
      "text/plain": [
       "<matplotlib.axes._subplots.AxesSubplot at 0x7f9e564de090>"
      ]
     },
     "execution_count": 7,
     "metadata": {},
     "output_type": "execute_result"
    },
    {
     "data": {
      "image/png": "[encoded data removed]",
      "text/plain": [
       "<matplotlib.figure.Figure at 0x7f9e587afed0>"
      ]
     },
     "metadata": {},
     "output_type": "display_data"
    }
   ],
   "source": [
    "# Influence sur les prix de la feature \"statut\"\n",
    "sns.boxplot(y=\"logprix\", x=\"statut\", data=train)"
   ]
  },
  {
   "cell_type": "markdown",
   "metadata": {},
   "source": [
    "# Preparation des donnees"
   ]
  },
  {
   "cell_type": "markdown",
   "metadata": {},
   "source": [
    "### Types de features"
   ]
  },
  {
   "cell_type": "code",
   "execution_count": 8,
   "metadata": {
    "collapsed": false
   },
   "outputs": [
    {
     "data": {
      "text/plain": [
       "0        65%\n",
       "1        65%\n",
       "2        65%\n",
       "3        65%\n",
       "4       100%\n",
       "5       100%\n",
       "6       100%\n",
       "7        65%\n",
       "8        65%\n",
       "9        65%\n",
       "10       65%\n",
       "11       65%\n",
       "12       65%\n",
       "13       65%\n",
       "14       65%\n",
       "15       65%\n",
       "16       15%\n",
       "17       65%\n",
       "18       65%\n",
       "19       65%\n",
       "20       65%\n",
       "21       65%\n",
       "22       65%\n",
       "23       65%\n",
       "24       65%\n",
       "25       65%\n",
       "26       65%\n",
       "27       65%\n",
       "28       65%\n",
       "29       65%\n",
       "        ... \n",
       "8534     30%\n",
       "8535     65%\n",
       "8536     65%\n",
       "8537     65%\n",
       "8538     15%\n",
       "8539     65%\n",
       "8540     15%\n",
       "8541     65%\n",
       "8542     65%\n",
       "8543     65%\n",
       "8544     65%\n",
       "8545     65%\n",
       "8546     65%\n",
       "8547     65%\n",
       "8548     65%\n",
       "8549     65%\n",
       "8550     65%\n",
       "8551     65%\n",
       "8552     65%\n",
       "8553     65%\n",
       "8554     65%\n",
       "8555     15%\n",
       "8556     65%\n",
       "8557     65%\n",
       "8558     65%\n",
       "8559     65%\n",
       "8560     65%\n",
       "8561     65%\n",
       "8562     65%\n",
       "8563     65%\n",
       "Name: tx rembours, dtype: object"
      ]
     },
     "execution_count": 8,
     "metadata": {},
     "output_type": "execute_result"
    }
   ],
   "source": [
    "train['tx rembours']"
   ]
  },
  {
   "cell_type": "code",
   "execution_count": 9,
   "metadata": {
    "collapsed": false
   },
   "outputs": [],
   "source": [
    "# features numériques\n",
    "feat_num = ['libelle_plaquette', 'libelle_ampoule', 'libelle_flacon', \n",
    "            'libelle_tube', 'libelle_stylo', 'libelle_seringue',\n",
    "            'libelle_pilulier', 'libelle_sachet', 'libelle_comprime', \n",
    "            'libelle_gelule', 'libelle_film', 'libelle_poche',\n",
    "            'libelle_capsule'] + ['nb_plaquette', 'nb_ampoule', \n",
    "            'nb_flacon', 'nb_tube', 'nb_stylo', 'nb_seringue',\n",
    "            'nb_pilulier', 'nb_sachet', 'nb_comprime', 'nb_gelule', \n",
    "            'nb_film', 'nb_poche', 'nb_capsule', 'nb_ml']\n",
    "# features date\n",
    "feat_dates = ['date declar annee', 'date amm annee']\n",
    "# features catégorielles\n",
    "feat_cat = ['statut', 'etat commerc', 'agrement col', 'tx rembours','voies admin', 'statut admin', 'type proc']\n",
    "\n",
    "\"\"\"\n",
    "feat_cat = ['statut', 'etat commerc', 'agrement col',\n",
    "          'voies admin', 'statut admin', 'type proc']\n",
    "\n",
    "feat_remb = ['tx rembours']\n",
    "train['tx rembours'] = train['tx rembours'].str[:-1].astype(int)*0.01\n",
    "test['tx rembours'] = test['tx rembours'].str[:-1].astype(int)*0.01\n",
    "\n",
    "train.set_value(train['tx rembours'] == 0.00, 'tx rembours', -1.0)\n",
    "train.set_value(train['tx rembours'] == 0.15, 'tx rembours', -0.5)\n",
    "train.set_value(train['tx rembours'] == 0.30, 'tx rembours', 0.0)\n",
    "train.set_value(train['tx rembours'] == 0.65, 'tx rembours', 0.5)\n",
    "train.set_value(train['tx rembours'] == 1., 'tx rembours', 1.0)\n",
    "\n",
    "test.set_value(test['tx rembours'] == 0.00, 'tx rembours', -1.0)\n",
    "test.set_value(test['tx rembours'] == 0.15, 'tx rembours', -0.5)\n",
    "test.set_value(test['tx rembours'] == 0.30, 'tx rembours', 0.0)\n",
    "test.set_value(test['tx rembours'] == 0.65, 'tx rembours', 0.5)\n",
    "test.set_value(test['tx rembours'] == 1., 'tx rembours', 1.0)\n",
    "\"\"\"\n",
    "\n",
    "# features texte\n",
    "feat_text = ['libelle', 'titulaires', 'substances', 'forme pharma']"
   ]
  },
  {
   "cell_type": "markdown",
   "metadata": {},
   "source": [
    "### Encodage des features catégorielles\n",
    "\n",
    "Les algorithmes de machine learning s'attendent à avoir en entrée des nombres, et non pas des chaînes de caractères. C'est pourquoi nous transformons les features catégorielles en nombres, à l'aide de LabelEncoder()"
   ]
  },
  {
   "cell_type": "code",
   "execution_count": 10,
   "metadata": {
    "collapsed": false
   },
   "outputs": [],
   "source": [
    "for c in feat_cat:\n",
    "    le = LabelEncoder()\n",
    "    le.fit(train[c].append(test[c]))\n",
    "    train[c] = le.transform(train[c])\n",
    "    test[c] = le.transform(test[c])"
   ]
  },
  {
   "cell_type": "code",
   "execution_count": 11,
   "metadata": {
    "collapsed": false
   },
   "outputs": [
    {
     "name": "stdout",
     "output_type": "stream",
     "text": [
      "1915\n",
      "8564\n",
      "done\n"
     ]
    }
   ],
   "source": [
    "allstr = \"\"\n",
    "substances = pd.concat([train, test]).substances.values#.append(list(test.substances.values))\n",
    "\n",
    "allsubs = []\n",
    "for sub in list(set(substances)):\n",
    "    allsubs.append(sub.split(\", \"))\n",
    "\n",
    "allsubs = set([item.replace(\" \",\"\") for sublist in allsubs for item in sublist])\n",
    "print len(allsubs) # Ca fait une liste des diverses substances\n",
    "\n",
    "allsubs = pd.DataFrame(list(allsubs))# == \"CHLORHYDRATED'HYDROMORPHONE\"\n",
    "\n",
    "#print train.substances\n",
    "allPositions = []\n",
    "for listSub in train.substances:\n",
    "    #print listSub.replace(\" \",\"\").split(\",\")\n",
    "    positions = np.zeros(len(allsubs), dtype=np.bool)\n",
    "    for thissub in listSub.replace(\" \",\"\").split(\",\"):\n",
    "        positions = positions | ((allsubs == thissub).values.transpose()[0])\n",
    "        #print np.sum(positions)\n",
    "    allPositions.append(positions)\n",
    "    #sys.exit()\n",
    "allPosTrain = allPositions\n",
    "print len(train)\n",
    "\n",
    "allPositions = []\n",
    "for listSub in test.substances:\n",
    "    #print listSub.replace(\" \",\"\").split(\",\")\n",
    "    positions = np.zeros(len(allsubs), dtype=np.bool)\n",
    "    for thissub in listSub.replace(\" \",\"\").split(\",\"):\n",
    "        positions = positions | ((allsubs == thissub).values.transpose()[0])\n",
    "        #print np.sum(positions)\n",
    "    allPositions.append(positions)\n",
    "    #sys.exit()\n",
    "testPos = pd.DataFrame(allPositions)\n",
    "allPosTest = allPositions\n",
    "\n",
    "print \"done\""
   ]
  },
  {
   "cell_type": "code",
   "execution_count": 12,
   "metadata": {
    "collapsed": false,
    "scrolled": true
   },
   "outputs": [],
   "source": [
    "pd.Index(np.arange(len(train)))\n",
    "trainPos = pd.DataFrame(allPosTrain, index=pd.Index(np.arange(len(train))))\n",
    "train = pd.concat([train, trainPos], axis=1)\n",
    "\n",
    "pd.Index(np.arange(len(test)))\n",
    "testPos = pd.DataFrame(allPosTest, index=pd.Index(np.arange(len(test))))\n",
    "test = pd.concat([test, testPos], axis=1)\n"
   ]
  },
  {
   "cell_type": "code",
   "execution_count": 13,
   "metadata": {
    "collapsed": false
   },
   "outputs": [
    {
     "name": "stdout",
     "output_type": "stream",
     "text": [
      "['libelle_plaquette', 'libelle_ampoule', 'libelle_flacon', 'libelle_tube', 'libelle_stylo', 'libelle_seringue', 'libelle_pilulier', 'libelle_sachet', 'libelle_comprime', 'libelle_gelule', 'libelle_film', 'libelle_poche', 'libelle_capsule', 'nb_plaquette', 'nb_ampoule', 'nb_flacon', 'nb_tube', 'nb_stylo', 'nb_seringue', 'nb_pilulier', 'nb_sachet', 'nb_comprime', 'nb_gelule', 'nb_film', 'nb_poche', 'nb_capsule', 'nb_ml', 'statut', 'etat commerc', 'agrement col', 'tx rembours', 'voies admin', 'statut admin', 'type proc', 'date declar annee', 'date amm annee']\n"
     ]
    },
    {
     "data": {
      "text/plain": [
       "0       False\n",
       "1       False\n",
       "2       False\n",
       "3       False\n",
       "4       False\n",
       "5       False\n",
       "6       False\n",
       "7       False\n",
       "8       False\n",
       "9       False\n",
       "10      False\n",
       "11      False\n",
       "12      False\n",
       "13      False\n",
       "14      False\n",
       "15      False\n",
       "16      False\n",
       "17      False\n",
       "18      False\n",
       "19      False\n",
       "20      False\n",
       "21      False\n",
       "22      False\n",
       "23      False\n",
       "24      False\n",
       "25      False\n",
       "26      False\n",
       "27      False\n",
       "28      False\n",
       "29      False\n",
       "        ...  \n",
       "8534    False\n",
       "8535    False\n",
       "8536    False\n",
       "8537    False\n",
       "8538    False\n",
       "8539    False\n",
       "8540    False\n",
       "8541    False\n",
       "8542    False\n",
       "8543    False\n",
       "8544    False\n",
       "8545    False\n",
       "8546    False\n",
       "8547    False\n",
       "8548    False\n",
       "8549    False\n",
       "8550    False\n",
       "8551    False\n",
       "8552    False\n",
       "8553    False\n",
       "8554    False\n",
       "8555    False\n",
       "8556    False\n",
       "8557    False\n",
       "8558    False\n",
       "8559    False\n",
       "8560    False\n",
       "8561    False\n",
       "8562    False\n",
       "8563    False\n",
       "Name: 1, dtype: bool"
      ]
     },
     "execution_count": 13,
     "metadata": {},
     "output_type": "execute_result"
    }
   ],
   "source": [
    "feat_sub = trainPos.columns\n",
    "#print list(feat_sub.values.astype(str))\n",
    "print feat_num+feat_cat+feat_dates\n",
    "FEATURES = feat_num+feat_cat+feat_dates+list(feat_sub.values.astype(int))\n",
    "#print FEATURES\n",
    "train[1]"
   ]
  },
  {
   "cell_type": "markdown",
   "metadata": {},
   "source": [
    "# Creation d'un modele\n",
    "\n",
    "Il est maintenant temps de creer un modele. Dans ce tutoriel nous allons construire une [Foret Aleatoire](https://fr.wikipedia.org/wiki/For%C3%AAt_d'arbres_d%C3%A9cisionnels)\n",
    "\n",
    "Pour ce faire nous utilisons toutes les variables dont nous disposons, sauf les variables de type \"texte\".\n",
    "\n",
    "Pour eviter le [surapprentissage](https://fr.wikipedia.org/wiki/Surapprentissage) et estimer les vraies performances de notre modele nous allons utiliser le critère de [validation croisee](https://fr.wikipedia.org/wiki/Validation_crois%C3%A9e) (cross-validation) methode k-fold."
   ]
  },
  {
   "cell_type": "markdown",
   "metadata": {},
   "source": [
    "### Métrique MAPE\n",
    "\n",
    "La métrique MAPE n'étant pas disponible dans scikit-learn, nous la codons"
   ]
  },
  {
   "cell_type": "code",
   "execution_count": 14,
   "metadata": {
    "collapsed": true
   },
   "outputs": [],
   "source": [
    "# Mean Absolute Percentage Error\n",
    "def mape_error(y_true, y_pred): \n",
    "    return np.mean(np.abs((y_true - y_pred) / y_true)) * 100"
   ]
  },
  {
   "cell_type": "markdown",
   "metadata": {},
   "source": [
    "### Cross validation"
   ]
  },
  {
   "cell_type": "code",
   "execution_count": 15,
   "metadata": {
    "collapsed": true
   },
   "outputs": [],
   "source": [
    "train[\"date declar annee\"] = 2017 - train[\"date declar annee\"]\n",
    "test[\"date declar annee\"] = 2017 - test[\"date declar annee\"]\n",
    "train[\"date amm annee\"] = 2017 - train[\"date amm annee\"]\n",
    "test[\"date amm annee\"] = 2017 - test[\"date amm annee\"]\n"
   ]
  },
  {
   "cell_type": "code",
   "execution_count": 18,
   "metadata": {
    "collapsed": false
   },
   "outputs": [
    {
     "name": "stdout",
     "output_type": "stream",
     "text": [
      "39.8789854064\n",
      "40.5515201965\n",
      "39.176466933\n",
      "37.9290318646\n",
      "36.6603897664\n",
      "*** MAPE Error :  38.8392788334\n"
     ]
    }
   ],
   "source": [
    "err = 0\n",
    "NBROUND = 5\n",
    "FEATURES = feat_num+feat_cat+feat_dates+list(feat_sub.values.astype(int)) # on n'utilise que ces features pour ce modèle basique\n",
    "for train_index, test_index in KFold(train.shape[0], n_folds=NBROUND):\n",
    "    y = train['logprix']\n",
    "    X = train[FEATURES]\n",
    "    X_train, X_test = X.ix[train_index, :], X.ix[test_index, :]\n",
    "    y_train, y_test = y[train_index], y[test_index]\n",
    "    clf = RandomForestRegressor(n_estimators=20, max_depth=47)\n",
    "    clf.fit(X_train, y_train)\n",
    "    pred = clf.predict(X_test)\n",
    "    # ne pas oublier de reprendre l'exponentielle de la prédiction\n",
    "    err += mape_error(np.exp(y_test), np.exp(pred))\n",
    "    print mape_error(np.exp(y_test), np.exp(pred))\n",
    "print \"*** MAPE Error : \", err / NBROUND"
   ]
  },
  {
   "cell_type": "markdown",
   "metadata": {},
   "source": [
    "Cela veut dire notre modele predit les prix des medicaments avec environ 65% d’erreur en moyenne. Par exemple, si un medicament vaut reellement 10€, notre prediction sera de 16.5€ (ou 3.5€)."
   ]
  },
  {
   "cell_type": "code",
   "execution_count": null,
   "metadata": {
    "collapsed": false
   },
   "outputs": [],
   "source": [
    "ePred = []\n",
    "for iMax in np.arange(15)*2+10:\n",
    "    err = 0\n",
    "    NBROUND = 5\n",
    "    FEATURES = feat_num+feat_cat+feat_dates+list(feat_sub.values.astype(int)) # on n'utilise que ces features pour ce modèle basique\n",
    "    for train_index, test_index in KFold(train.shape[0], n_folds=NBROUND):\n",
    "        y = train['logprix']\n",
    "        X = train[FEATURES]\n",
    "        X_train, X_test = X.ix[train_index, :], X.ix[test_index, :]\n",
    "        y_train, y_test = y[train_index], y[test_index]\n",
    "        clf = RandomForestRegressor(n_estimators=iMax, max_depth=47)\n",
    "        clf.fit(X_train, y_train)\n",
    "        pred = clf.predict(X_test)\n",
    "        # ne pas oublier de reprendre l'exponentielle de la prédiction\n",
    "        err += mape_error(np.exp(y_test), np.exp(pred))\n",
    "        #print mape_error(np.exp(y_test), np.exp(pred))\n",
    "    print \"*** MAPE Error : \", err / NBROUND\n",
    "    ePred.append(err / NBROUND)\n",
    "plt.plot(ePred, label=\"error on target\")\n",
    "plt.xlabel(\"max_depth\")\n",
    "plt.legend()\n",
    "plt.show()\n",
    "plt.close()\n"
   ]
  },
  {
   "cell_type": "markdown",
   "metadata": {},
   "source": [
    "# Calcul des predictions et soumission"
   ]
  },
  {
   "cell_type": "code",
   "execution_count": 23,
   "metadata": {
    "collapsed": false
   },
   "outputs": [],
   "source": [
    "clf = RandomForestRegressor(n_estimators=2000, max_depth=47)\n",
    "# On entraine de nouveau le modèle, cette fois sur l'intégralité des données\n",
    "clf.fit(train[FEATURES], train['logprix'])\n",
    "predictions = np.exp(clf.predict(test[feat_num+feat_cat+feat_dates+list(feat_sub.values.astype(int))]))"
   ]
  },
  {
   "cell_type": "code",
   "execution_count": 24,
   "metadata": {
    "collapsed": true
   },
   "outputs": [],
   "source": [
    "pd.DataFrame(predictions, index=test['id']).to_csv('soumission.csv',  \n",
    "                          header=['prix'],\n",
    "                          sep = ';')"
   ]
  },
  {
   "cell_type": "markdown",
   "metadata": {},
   "source": [
    "Vous etes maintenant pret ? Faites votre premiere soumission en uplodant le fichier `soumission.csv` sur [Datascience.net](www.datascience.net)"
   ]
  },
  {
   "cell_type": "code",
   "execution_count": 66,
   "metadata": {
    "collapsed": false
   },
   "outputs": [
    {
     "data": {
      "text/plain": [
       "0       1.098612\n",
       "1       1.386294\n",
       "2       2.833213\n",
       "3       2.484907\n",
       "4       0.693147\n",
       "5       2.772589\n",
       "6       0.693147\n",
       "7       2.397895\n",
       "8       1.386294\n",
       "9       0.693147\n",
       "10      2.639057\n",
       "11      1.609438\n",
       "12      0.693147\n",
       "13      1.386294\n",
       "14      2.197225\n",
       "15      3.583519\n",
       "16      1.098612\n",
       "17      2.708050\n",
       "18      2.397895\n",
       "19      2.564949\n",
       "20      1.609438\n",
       "21      1.098612\n",
       "22      1.609438\n",
       "23      3.583519\n",
       "24      1.098612\n",
       "25      1.386294\n",
       "26      1.098612\n",
       "27      3.044522\n",
       "28      1.609438\n",
       "29      1.791759\n",
       "          ...   \n",
       "8534    2.944439\n",
       "8535    0.693147\n",
       "8536    1.945910\n",
       "8537    1.791759\n",
       "8538    3.951244\n",
       "8539    2.890372\n",
       "8540    2.890372\n",
       "8541    3.091042\n",
       "8542    2.944439\n",
       "8543    0.693147\n",
       "8544    1.945910\n",
       "8545    1.098612\n",
       "8546    3.891820\n",
       "8547    1.609438\n",
       "8548    2.484907\n",
       "8549    1.791759\n",
       "8550    2.772589\n",
       "8551    0.693147\n",
       "8552    0.693147\n",
       "8553    2.772589\n",
       "8554    1.098612\n",
       "8555    1.791759\n",
       "8556    1.098612\n",
       "8557    2.079442\n",
       "8558    1.945910\n",
       "8559    0.693147\n",
       "8560    2.890372\n",
       "8561    1.098612\n",
       "8562    2.079442\n",
       "8563    2.302585\n",
       "Name: date declar annee, dtype: float64"
      ]
     },
     "execution_count": 66,
     "metadata": {},
     "output_type": "execute_result"
    }
   ],
   "source": [
    "train[\"date declar annee\"]"
   ]
  },
  {
   "cell_type": "code",
   "execution_count": null,
   "metadata": {
    "collapsed": true
   },
   "outputs": [],
   "source": []
  }
 ],
 "metadata": {
  "kernelspec": {
   "display_name": "Python 2",
   "language": "python",
   "name": "python2"
  },
  "language_info": {
   "codemirror_mode": {
    "name": "ipython",
    "version": 2
   },
   "file_extension": ".py",
   "mimetype": "text/x-python",
   "name": "python",
   "nbconvert_exporter": "python",
   "pygments_lexer": "ipython2",
   "version": "2.7.11"
  }
 },
 "nbformat": 4,
 "nbformat_minor": 0
}
